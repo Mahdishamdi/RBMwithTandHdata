{
 "cells": [
  {
   "cell_type": "code",
   "execution_count": 27,
   "id": "6e88b589",
   "metadata": {},
   "outputs": [],
   "source": [
    "import numpy as np\n",
    "import math\n",
    "import matplotlib.pyplot as plt\n",
    "#from time import time\n",
    "\n",
    "class RBM():\n",
    "    def __init__(self, n_vis=25, n_hid=10):\n",
    "        self.n_vis = n_vis\n",
    "        self.n_hid = n_hid\n",
    "        # Parameters\n",
    "        self.W = 0.01 * np.random.randn(n_vis, n_hid)\n",
    "        self.vbias = np.zeros(n_vis)\n",
    "        self.hbias =np.zeros(n_hid)\n",
    "        # Gradients\n",
    "        self.W_grad = np.zeros(self.W.shape)\n",
    "        self.vbias_grad = np.zeros(n_vis)\n",
    "        self.hbias_grad = np.zeros(n_hid)\n",
    "        # Velocities - for momentum\n",
    "        self.W_vel = np.zeros(self.W.shape)\n",
    "        self.vbias_vel = np.zeros(n_vis)\n",
    "        self.hbias_vel = np.zeros(n_hid)\n",
    "    \n",
    "    def sigmoid(self,x):\n",
    "        return 1/(1+np.exp(-x))\n",
    "    \n",
    "    \n",
    "    def h_given_v(self, v):\n",
    "     \n",
    "        p = self.sigmoid(np.matmul(v, self.W) + self.hbias)\n",
    "        return (p, np.random.binomial(1, p=p))\n",
    "    \n",
    "    \n",
    "    def v_given_h(self, h):\n",
    "   \n",
    "        p = self.sigmoid(np.matmul(h, self.W.T) + self.vbias)\n",
    "        return (p, np.random.binomial(1, p=p))\n",
    "    \n",
    "    def compute_error_and_grads(self, batch, num_steps=1, method=\"cd\"):\n",
    "\n",
    "        b_size = batch.shape[0]\n",
    "        v0 = batch.reshape(b_size, -1)\n",
    "        \n",
    "        # Compute gradients - Positive Phase\n",
    "        ph0, h0 = self.h_given_v(v0)\n",
    "        W_grad = np.matmul(v0.T, ph0)\n",
    "        vbias_grad = np.sum(v0, axis=0)\n",
    "        hbias_grad = np.sum(ph0, axis=0)\n",
    "        \n",
    "        # Compute gradients - Negative Phase\n",
    "\n",
    "\n",
    "        pv1, v1 = self.v_given_h(h0)\n",
    "        ph1, h1 = self.h_given_v(pv1)\n",
    "        \n",
    "        W_grad -= np.matmul(pv1.T, ph1)\n",
    "        vbias_grad -= np.sum(pv1, axis=0)\n",
    "        hbias_grad -= np.sum(ph1, axis=0)\n",
    "        \n",
    "        self.W_grad = W_grad/b_size\n",
    "        self.hbias_grad = hbias_grad/b_size\n",
    "        self.vbias_grad = vbias_grad/b_size\n",
    "        \n",
    "        recon_err = np.mean(np.sum((v0 - pv1)**2, axis=1), axis=0) # sum of squared error averaged over the batch\n",
    "        return recon_err\n",
    "    \n",
    "    def update_params(self, lr, momentum=0):\n",
    "    \n",
    "        self.W_vel *= momentum\n",
    "        self.W_vel += (1.-momentum) * lr * self.W_grad\n",
    "        self.W += self.W_vel\n",
    "        \n",
    "        self.vbias_vel *= momentum\n",
    "        self.vbias_vel += (1.-momentum) * lr * self.vbias_grad\n",
    "        self.vbias += self.vbias_vel\n",
    "        \n",
    "        self.hbias_vel *= momentum\n",
    "        self.hbias_vel += (1.-momentum) * lr * self.hbias_grad\n",
    "        self.hbias += self.hbias_vel\n",
    "        \n",
    "    def reconstruct(self, v):\n",
    "        ph0, h0 = self.h_given_v(v)\n",
    "        pv1, v1 = self.v_given_h(ph0)\n",
    "        return pv1\n"
   ]
  },
  {
   "cell_type": "code",
   "execution_count": 28,
   "id": "4508a55b",
   "metadata": {},
   "outputs": [],
   "source": [
    "# Some parameters to set\n",
    "batch_size = 10\n",
    "num_epochs = 300\n",
    "lr = 0.1\n",
    "num_steps = 1"
   ]
  },
  {
   "cell_type": "code",
   "execution_count": 29,
   "id": "4e791fa3",
   "metadata": {},
   "outputs": [],
   "source": [
    "def get_batches(data, batch_size, shuffle=False):\n",
    "\n",
    "    if(shuffle):\n",
    "        np.random.shuffle(data)\n",
    "    if(batch_size == -1):\n",
    "        batch_size = len(data)\n",
    "    num_batches = math.ceil(data.shape[0]/batch_size)\n",
    "    for batch_num in range(num_batches):\n",
    "        yield data[batch_num*batch_size:(batch_num+1)*batch_size]   "
   ]
  },
  {
   "cell_type": "code",
   "execution_count": 30,
   "id": "368251f4",
   "metadata": {},
   "outputs": [],
   "source": [
    "#Data\n",
    "import pandas as pd\n",
    "import numpy as np\n",
    "import matplotlib.pyplot as plt\n",
    "# dictionary of data\n",
    "dct = {'state': {0: [0,0,0,0,0,0,1,1,1,0,0,0,1,0,0,0,0,1,0,0,0,0,0,0,0],\n",
    "                 1: [0,0,0,0,0,0,1,0,1,0,0,1,1,1,0,0,1,0,1,0,0,0,0,0,0],\n",
    "                 2: [0,0,0,0,0,0,1,1,1,0,0,0,1,0,0,0,0,1,0,0,0,0,0,0,0],\n",
    "                 3: [0,0,0,0,0,0,1,1,1,0,0,0,1,0,0,0,0,1,0,0,0,0,0,0,0], \n",
    "                 4: [0,0,0,0,0,0,1,1,1,0,0,0,1,0,0,0,0,1,0,0,0,0,0,0,0], \n",
    "                 5: [0,0,0,0,0,0,1,0,1,0,0,1,1,1,0,0,1,0,1,0,0,0,0,0,0], \n",
    "                 6: [0,0,0,0,0,0,1,0,1,0,0,1,1,1,0,0,1,0,1,0,0,0,0,0,0], \n",
    "                 7: [0,0,0,0,0,0,1,0,1,0,0,1,1,1,0,0,1,0,1,0,0,0,0,0,0],\n",
    "                 8: [0,0,0,0,0,0,1,1,1,0,0,0,1,0,0,0,0,1,0,0,0,0,0,0,0],\n",
    "                 9: [0,0,0,0,0,0,1,0,1,0,0,1,1,1,0,0,1,0,1,0,0,0,0,0,0],\n",
    "                 10: [0,0,0,0,0,0,1,1,1,0,0,0,1,0,0,0,0,1,0,0,0,0,0,0,0],\n",
    "                 11: [0,0,0,0,0,0,1,1,1,0,0,0,1,0,0,0,0,1,0,0,0,0,0,0,0], \n",
    "                 12: [0,0,0,0,0,0,1,1,1,0,0,0,1,0,0,0,0,1,0,0,0,0,0,0,0], \n",
    "                 13: [0,0,0,0,0,0,1,0,1,0,0,1,1,1,0,0,1,0,1,0,0,0,0,0,0], \n",
    "                 14: [0,0,0,0,0,0,1,0,1,0,0,1,1,1,0,0,1,0,1,0,0,0,0,0,0], \n",
    "                 15: [0,0,0,0,0,0,1,0,1,0,0,1,1,1,0,0,1,0,1,0,0,0,0,0,0],\n",
    "                 16: [0,0,0,0,0,0,1,0,1,0,0,1,1,1,0,0,1,0,1,0,0,0,0,0,0],\n",
    "                 17: [0,0,0,0,0,0,1,0,1,0,0,1,1,1,0,0,1,0,1,0,0,0,0,0,0], \n",
    "                 18: [0,0,0,0,0,0,1,0,1,0,0,1,1,1,0,0,1,0,1,0,0,0,0,0,0], \n",
    "                 19: [0,0,0,0,0,0,1,0,1,0,0,1,1,1,0,0,1,0,1,0,0,0,0,0,0],\n",
    "                 20: [0,0,0,0,0,0,1,1,1,0,0,0,1,0,0,0,0,1,0,0,0,0,0,0,0],\n",
    "                 21: [0,0,0,0,0,0,1,0,1,0,0,1,1,1,0,0,1,0,1,0,0,0,0,0,0],\n",
    "                 22: [0,0,0,0,0,0,1,1,1,0,0,0,1,0,0,0,0,1,0,0,0,0,0,0,0],\n",
    "                 23: [0,0,0,0,0,0,1,1,1,0,0,0,1,0,0,0,0,1,0,0,0,0,0,0,0], \n",
    "                 24: [0,0,0,0,0,0,1,1,1,0,0,0,1,0,0,0,0,1,0,0,0,0,0,0,0], \n",
    "                 25: [0,0,0,0,0,0,1,0,1,0,0,1,1,1,0,0,1,0,1,0,0,0,0,0,0]},\n",
    "       'En': {0: 5, 1: 6, 2:5, 3: 9,4: 9, 5: 9,6: 9, 7: 7,8:7,9:10,10:10,11:13,12:5,13:5,14:13,15:10,16:0}}\n",
    "\n",
    "\n",
    "\n",
    "# forming dataframe\n",
    "data = pd.DataFrame(dct)\n",
    "\n",
    "# using to_pickle function to form file\n",
    "# with name 'pickle_file'\n",
    "pd.to_pickle(data,'./pickle_file.pkl')\n",
    "\n",
    "# unpickled the data by using the\n",
    "# pd.read_pickle method\n",
    "unpickled_data = pd.read_pickle(\"./pickle_file.pkl\")\n",
    "\n",
    "data1 = unpickled_data.drop(columns= ['En'])\n",
    "\n",
    "a=list(data1['state'])\n",
    "\n",
    "X_train=1.0*np.array(a)\n"
   ]
  },
  {
   "cell_type": "code",
   "execution_count": 31,
   "id": "01a93f5d",
   "metadata": {},
   "outputs": [],
   "source": [
    "# Our RBM object\n",
    "rbm = RBM(n_vis=25, n_hid=10)"
   ]
  },
  {
   "cell_type": "code",
   "execution_count": 32,
   "id": "a1730978",
   "metadata": {},
   "outputs": [],
   "source": [
    "# Training loop\n",
    "errors = []\n",
    "\n",
    "#start_time = time()\n",
    "\n",
    "for epoch in range(1, num_epochs+1):\n",
    "    iteration = 0\n",
    "    error = 0\n",
    "    for batch in get_batches(X_train, batch_size, shuffle=True):\n",
    "        iteration += 1\n",
    "   \n",
    "        # Compute gradients and errors\n",
    "        error += rbm.compute_error_and_grads(batch, num_steps=num_steps)\n",
    "        \n",
    "        # Update parameters - use momentum as explained in Hinton's guide\n",
    "        if(epoch > 5):\n",
    "            rbm.update_params(lr, momentum=0.5)\n",
    "        else:\n",
    "            rbm.update_params(lr, momentum=0.9)\n",
    "\n",
    "    #print(\"epoch:{} \\t error:{:.4f} \\t training time:{:.2f} s\".format(epoch, error, time()-start_time))\n",
    "    errors.append(error)\n",
    "\n"
   ]
  },
  {
   "cell_type": "code",
   "execution_count": 33,
   "id": "66a96f67",
   "metadata": {},
   "outputs": [
    {
     "data": {
      "image/png": "[encoded data removed]",
      "text/plain": [
       "<Figure size 432x288 with 1 Axes>"
      ]
     },
     "metadata": {
      "needs_background": "light"
     },
     "output_type": "display_data"
    }
   ],
   "source": [
    "plt.xlabel(\"Epoch\")\n",
    "plt.ylabel(\"Error\")\n",
    "plt.plot(errors)\n",
    "plt.savefig(\"error_plot\")\n",
    "\n"
   ]
  },
  {
   "cell_type": "code",
   "execution_count": 34,
   "id": "3c8c3011",
   "metadata": {},
   "outputs": [],
   "source": [
    "\n",
    "def plot_images(rbm, images, title='Reconstructed Images', save_as=\"Reconstructed Images\"):\n",
    "    N=5\n",
    "    num_samples = len(images)\n",
    "    plt.clf()\n",
    "    fig, axes = plt.subplots(2, num_samples, gridspec_kw = {'wspace':0, 'hspace':0.1}, figsize=(2*num_samples, 4))\n",
    "    fig.suptitle(title)\n",
    "\n",
    "    for n in range(num_samples):\n",
    "        axes[0, n].imshow(images[n].reshape(N,N),'gray')\n",
    "        axes[1, n].imshow(rbm.reconstruct(images[n].reshape(N*N)).reshape(N, N),'gray')\n",
    "        axes[0, n].axis('off')\n",
    "        axes[1, n].axis('off')\n",
    "\n",
    "    plt.savefig(save_as)\n",
    "    plt.show()\n",
    " "
   ]
  },
  {
   "cell_type": "code",
   "execution_count": 42,
   "id": "54b74b6b",
   "metadata": {},
   "outputs": [],
   "source": [
    "#Some hand picked images for each class for plotting\n",
    "\n",
    "selected_imgs = X_train[[1, 2,3,4,6,7,8,9,10,11,13,14,0, 5,15, 12]]\n"
   ]
  },
  {
   "cell_type": "code",
   "execution_count": 36,
   "id": "fbed9735",
   "metadata": {},
   "outputs": [
    {
     "data": {
      "text/plain": [
       "<Figure size 432x288 with 0 Axes>"
      ]
     },
     "metadata": {},
     "output_type": "display_data"
    },
    {
     "data": {
      "image/png": "[encoded data removed]",
      "text/plain": [
       "<Figure size 2304x288 with 32 Axes>"
      ]
     },
     "metadata": {
      "needs_background": "light"
     },
     "output_type": "display_data"
    }
   ],
   "source": [
    "plot_images(rbm, selected_imgs)"
   ]
  },
  {
   "cell_type": "code",
   "execution_count": 43,
   "id": "775f3e9f",
   "metadata": {},
   "outputs": [],
   "source": [
    "from scipy.stats import norm\n",
    "def plot_weights(rbm):\n",
    " \n",
    "    W_=rbm.W\n",
    "\n",
    "    plt.hist(W_, density= True)\n",
    "    mu, std = norm.fit(rbm.W) \n",
    "    xmin, xmax = plt.xlim()\n",
    "    x = np.linspace(xmin, xmax, 100)\n",
    "    p = norm.pdf(x, mu, std)\n",
    "    plt.plot(x, p, linewidth=2)\n",
    "\n",
    "    plt.show()"
   ]
  },
  {
   "cell_type": "code",
   "execution_count": 44,
   "id": "3168c076",
   "metadata": {},
   "outputs": [
    {
     "data": {
      "image/png": "[encoded data removed]",
      "text/plain": [
       "<Figure size 432x288 with 1 Axes>"
      ]
     },
     "metadata": {
      "needs_background": "light"
     },
     "output_type": "display_data"
    }
   ],
   "source": [
    "plot_weights(rbm)  "
   ]
  },
  {
   "cell_type": "code",
   "execution_count": 39,
   "id": "683f0d6d",
   "metadata": {},
   "outputs": [],
   "source": [
    "#new data\n",
    "\n",
    "rand=[[0,0,1,0,0,0,1,0,1,0,0,1,0,1,0,0,1,0,1,0,0,1,0,0,0],[0,0,1,0,0,0,1,1,0,0,0,0,1,0,0,1,0,1,0,0,0,1,0,0,0]]"
   ]
  },
  {
   "cell_type": "code",
   "execution_count": 40,
   "id": "5c92243e",
   "metadata": {},
   "outputs": [],
   "source": [
    "selected_rand_imgs = np.array(rand)"
   ]
  },
  {
   "cell_type": "code",
   "execution_count": 41,
   "id": "0899fd81",
   "metadata": {},
   "outputs": [
    {
     "data": {
      "text/plain": [
       "<Figure size 432x288 with 0 Axes>"
      ]
     },
     "metadata": {},
     "output_type": "display_data"
    },
    {
     "data": {
      "image/png": "[encoded data removed]",
      "text/plain": [
       "<Figure size 288x288 with 4 Axes>"
      ]
     },
     "metadata": {
      "needs_background": "light"
     },
     "output_type": "display_data"
    }
   ],
   "source": [
    "plot_images(rbm, selected_rand_imgs)"
   ]
  },
  {
   "cell_type": "code",
   "execution_count": null,
   "id": "ff56a72e",
   "metadata": {},
   "outputs": [],
   "source": []
  },
  {
   "cell_type": "code",
   "execution_count": null,
   "id": "1c19b37b",
   "metadata": {},
   "outputs": [],
   "source": []
  }
 ],
 "metadata": {
  "kernelspec": {
   "display_name": "Python 3 (ipykernel)",
   "language": "python",
   "name": "python3"
  },
  "language_info": {
   "codemirror_mode": {
    "name": "ipython",
    "version": 3
   },
   "file_extension": ".py",
   "mimetype": "text/x-python",
   "name": "python",
   "nbconvert_exporter": "python",
   "pygments_lexer": "ipython3",
   "version": "3.9.7"
  }
 },
 "nbformat": 4,
 "nbformat_minor": 5
}
